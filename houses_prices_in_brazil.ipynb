{
 "cells": [
  {
   "cell_type": "markdown",
   "id": "e7e4d0a9-b932-46db-837d-94c7545f26a0",
   "metadata": {},
   "source": [
    "# Prevendo preços de imóveis no Brazil (Data Pipeline)"
   ]
  },
  {
   "cell_type": "markdown",
   "id": "174f7e1f-00c3-4335-b024-f9a68f1e3bb1",
   "metadata": {},
   "source": [
    "<img src=\"rj_imoveis.jpg\" width=800>"
   ]
  },
  {
   "cell_type": "markdown",
   "id": "5c95c75f-c4e2-4582-aefd-b93e03b0a49c",
   "metadata": {},
   "source": [
    "#### O intuito do projeto é criar uma solução \"end to end\" simulando as etapas de um projeto real usando algumas ferramentas da Google Cloud Platform\n",
    "\n",
    "Passamos pelas seguintes fases:\n",
    "1. Criar um Banco de Dados MySQL na nuvem\n",
    "2. Adicionar mais uma fonte de dados pelo Google Storage\n",
    "3. Criar o processo de ETL com o Google DataPrep\n",
    "4. Carregar os dados no Google BigQuery (usando um método mais parecido com Data Warehouse)\n",
    "5. Extrair os dados para um arquivo Jupyter Notebook para criar análises\n",
    "6. Fazer o deploy de um modelo de Machine Learning usando o Streamlit.\n",
    "\n",
    "Abaixo podemos ver um fluxograma:"
   ]
  },
  {
   "cell_type": "markdown",
   "id": "f0153979-5fb6-4afc-9c27-01497941805f",
   "metadata": {},
   "source": [
    "<img src=\"end-to-end-ml.png\" width=800>"
   ]
  },
  {
   "cell_type": "markdown",
   "id": "186389bf-427a-4068-a690-a44c012aa199",
   "metadata": {},
   "source": [
    "***\n",
    "# Sobre o dataset\n",
    "### Este conjunto de dados possui as seguintes informações:\n",
    "- cidade: Cidade onde o imóvel está localizada\n",
    "- area: Área do imóvel (em m2)\n",
    "- quartos: Número de quartos\n",
    "- banheiros: Número de banheiros\n",
    "- vagas: Número de vagas\n",
    "- andar: Em qual andar se localiza\n",
    "- animal: Se aceita animais\n",
    "- mobilia: Se está mobiliada\n",
    "- valor_condominio: Valor do condomínio\n",
    "- valor_aluguel: Valor do aluguel\n",
    "- iptu: Valor do IPTU\n",
    "- taxa_incendio: Valor da taxa de incêndio\n",
    "- valor_total: Valor total à pagar"
   ]
  },
  {
   "cell_type": "markdown",
   "id": "ff80454b-bcfc-4432-ad49-86008b915f9d",
   "metadata": {},
   "source": [
    "### Antes de começar a construir nosso algoritmo, iremos responder as seguintes perguntas de negócios:\n",
    "1. Qual a cidade que possui o maior número de imóveis disponíveis?\n",
    "2. Qual a cidade que possui a média do valor total do imóvel mais alta? E a mais baixa?\n",
    "3. Os imóveis que já possuem mobília são mais caros, mais baratos ou não influenciam no valor total?\n",
    "4. Imóveis que permitem animais influenciam no valor total?\n",
    "5. Qual é a média do valor total dos imóveis com 3 quartos ou mais, já possuem mobília e são da cidade com o maior custo total?\n",
    "\n",
    "**HANDS ON!** 💻"
   ]
  },
  {
   "cell_type": "markdown",
   "id": "99cf6ad6-bb76-4025-b87b-eb7ba5b5b4b1",
   "metadata": {},
   "source": [
    "# 1.0 - Importando o conjunto de dados direto do Google BigQuery"
   ]
  },
  {
   "cell_type": "code",
   "execution_count": 1,
   "id": "fb28bc59-9bae-492e-8cf2-54eba5b037d5",
   "metadata": {},
   "outputs": [],
   "source": [
    "# importando as bibliotecas que iremos utilizar nessa primeira parte do projeto\n",
    "# as outras vou importando ao longo do código quando necessário\n",
    "\n",
    "import pandas as pd\n",
    "import numpy as np\n",
    "import seaborn as sns\n",
    "import matplotlib.pyplot as plt"
   ]
  },
  {
   "cell_type": "code",
   "execution_count": 2,
   "id": "956fea70-b2aa-406f-8b33-cd54433cb8cd",
   "metadata": {},
   "outputs": [],
   "source": [
    "# importando a biblioteca contendo as funções para conexão com o bigquery\n",
    "from google.cloud import bigquery"
   ]
  },
  {
   "cell_type": "code",
   "execution_count": 3,
   "id": "8753312b-eb1c-442e-bbfa-30bfccaa524d",
   "metadata": {},
   "outputs": [],
   "source": [
    "# instanciando um client para o bigquery service\n",
    "bigquery_client = bigquery.Client()"
   ]
  },
  {
   "cell_type": "code",
   "execution_count": 4,
   "id": "2bcfb200-8c8f-4e9e-ace3-c1bef4b5cef0",
   "metadata": {},
   "outputs": [],
   "source": [
    "# fazendo a query para trazer os dados\n",
    "QUERY = \"\"\"\n",
    "SELECT *\n",
    "FROM datawarehousetest-334522.datasets.houses_in_brazil\n",
    "\"\"\""
   ]
  },
  {
   "cell_type": "code",
   "execution_count": 5,
   "id": "8e79cb64-50b5-486d-a677-0d269e64750f",
   "metadata": {},
   "outputs": [],
   "source": [
    "# rodando a query e pegando os dados\n",
    "query_job = bigquery_client.query(QUERY)"
   ]
  },
  {
   "cell_type": "code",
   "execution_count": 6,
   "id": "9abb3de7-90a9-44d1-90f8-cbc83efa5958",
   "metadata": {},
   "outputs": [],
   "source": [
    "# converter os dados em um datafram\n",
    "df = query_job.to_dataframe()"
   ]
  },
  {
   "cell_type": "code",
   "execution_count": 7,
   "id": "9ca08526-5940-4b26-95ff-5428c0091364",
   "metadata": {},
   "outputs": [
    {
     "data": {
      "text/html": [
       "<div>\n",
       "<style scoped>\n",
       "    .dataframe tbody tr th:only-of-type {\n",
       "        vertical-align: middle;\n",
       "    }\n",
       "\n",
       "    .dataframe tbody tr th {\n",
       "        vertical-align: top;\n",
       "    }\n",
       "\n",
       "    .dataframe thead th {\n",
       "        text-align: right;\n",
       "    }\n",
       "</style>\n",
       "<table border=\"1\" class=\"dataframe\">\n",
       "  <thead>\n",
       "    <tr style=\"text-align: right;\">\n",
       "      <th></th>\n",
       "      <th>cidade</th>\n",
       "      <th>area</th>\n",
       "      <th>quartos</th>\n",
       "      <th>banheiros</th>\n",
       "      <th>vagas</th>\n",
       "      <th>andar</th>\n",
       "      <th>animal</th>\n",
       "      <th>mobilia</th>\n",
       "      <th>valor_condominio</th>\n",
       "      <th>valor_aluguel</th>\n",
       "      <th>iptu</th>\n",
       "      <th>taxa_incendio</th>\n",
       "      <th>valor_total</th>\n",
       "    </tr>\n",
       "  </thead>\n",
       "  <tbody>\n",
       "    <tr>\n",
       "      <th>0</th>\n",
       "      <td>Campinas</td>\n",
       "      <td>50</td>\n",
       "      <td>1</td>\n",
       "      <td>1</td>\n",
       "      <td>0</td>\n",
       "      <td>8</td>\n",
       "      <td>aceito</td>\n",
       "      <td>nao mobiliado</td>\n",
       "      <td>300</td>\n",
       "      <td>550</td>\n",
       "      <td>0</td>\n",
       "      <td>3</td>\n",
       "      <td>853</td>\n",
       "    </tr>\n",
       "    <tr>\n",
       "      <th>1</th>\n",
       "      <td>Campinas</td>\n",
       "      <td>40</td>\n",
       "      <td>1</td>\n",
       "      <td>2</td>\n",
       "      <td>1</td>\n",
       "      <td>7</td>\n",
       "      <td>aceito</td>\n",
       "      <td>nao mobiliado</td>\n",
       "      <td>550</td>\n",
       "      <td>807</td>\n",
       "      <td>43</td>\n",
       "      <td>3</td>\n",
       "      <td>1403</td>\n",
       "    </tr>\n",
       "    <tr>\n",
       "      <th>2</th>\n",
       "      <td>Campinas</td>\n",
       "      <td>25</td>\n",
       "      <td>1</td>\n",
       "      <td>1</td>\n",
       "      <td>0</td>\n",
       "      <td>3</td>\n",
       "      <td>nao aceito</td>\n",
       "      <td>nao mobiliado</td>\n",
       "      <td>200</td>\n",
       "      <td>1020</td>\n",
       "      <td>0</td>\n",
       "      <td>4</td>\n",
       "      <td>1224</td>\n",
       "    </tr>\n",
       "    <tr>\n",
       "      <th>3</th>\n",
       "      <td>São Paulo</td>\n",
       "      <td>71</td>\n",
       "      <td>1</td>\n",
       "      <td>1</td>\n",
       "      <td>0</td>\n",
       "      <td>1</td>\n",
       "      <td>aceito</td>\n",
       "      <td>nao mobiliado</td>\n",
       "      <td>718</td>\n",
       "      <td>1443</td>\n",
       "      <td>0</td>\n",
       "      <td>5</td>\n",
       "      <td>2166</td>\n",
       "    </tr>\n",
       "    <tr>\n",
       "      <th>4</th>\n",
       "      <td>São Paulo</td>\n",
       "      <td>43</td>\n",
       "      <td>1</td>\n",
       "      <td>1</td>\n",
       "      <td>0</td>\n",
       "      <td>6</td>\n",
       "      <td>aceito</td>\n",
       "      <td>nao mobiliado</td>\n",
       "      <td>219</td>\n",
       "      <td>1472</td>\n",
       "      <td>42</td>\n",
       "      <td>6</td>\n",
       "      <td>1739</td>\n",
       "    </tr>\n",
       "    <tr>\n",
       "      <th>5</th>\n",
       "      <td>São Paulo</td>\n",
       "      <td>48</td>\n",
       "      <td>1</td>\n",
       "      <td>1</td>\n",
       "      <td>1</td>\n",
       "      <td>19</td>\n",
       "      <td>aceito</td>\n",
       "      <td>nao mobiliado</td>\n",
       "      <td>588</td>\n",
       "      <td>1525</td>\n",
       "      <td>0</td>\n",
       "      <td>6</td>\n",
       "      <td>2119</td>\n",
       "    </tr>\n",
       "    <tr>\n",
       "      <th>6</th>\n",
       "      <td>São Paulo</td>\n",
       "      <td>67</td>\n",
       "      <td>1</td>\n",
       "      <td>1</td>\n",
       "      <td>1</td>\n",
       "      <td>1</td>\n",
       "      <td>nao aceito</td>\n",
       "      <td>nao mobiliado</td>\n",
       "      <td>0</td>\n",
       "      <td>1000</td>\n",
       "      <td>0</td>\n",
       "      <td>6</td>\n",
       "      <td>1006</td>\n",
       "    </tr>\n",
       "    <tr>\n",
       "      <th>7</th>\n",
       "      <td>Rio de Janeiro</td>\n",
       "      <td>50</td>\n",
       "      <td>1</td>\n",
       "      <td>1</td>\n",
       "      <td>0</td>\n",
       "      <td>1</td>\n",
       "      <td>aceito</td>\n",
       "      <td>nao mobiliado</td>\n",
       "      <td>640</td>\n",
       "      <td>1428</td>\n",
       "      <td>81</td>\n",
       "      <td>6</td>\n",
       "      <td>2155</td>\n",
       "    </tr>\n",
       "    <tr>\n",
       "      <th>8</th>\n",
       "      <td>Belo Horizonte</td>\n",
       "      <td>22</td>\n",
       "      <td>1</td>\n",
       "      <td>1</td>\n",
       "      <td>0</td>\n",
       "      <td>1</td>\n",
       "      <td>aceito</td>\n",
       "      <td>nao mobiliado</td>\n",
       "      <td>30</td>\n",
       "      <td>450</td>\n",
       "      <td>13</td>\n",
       "      <td>6</td>\n",
       "      <td>499</td>\n",
       "    </tr>\n",
       "    <tr>\n",
       "      <th>9</th>\n",
       "      <td>Campinas</td>\n",
       "      <td>44</td>\n",
       "      <td>1</td>\n",
       "      <td>1</td>\n",
       "      <td>0</td>\n",
       "      <td>7</td>\n",
       "      <td>aceito</td>\n",
       "      <td>nao mobiliado</td>\n",
       "      <td>350</td>\n",
       "      <td>550</td>\n",
       "      <td>12</td>\n",
       "      <td>7</td>\n",
       "      <td>919</td>\n",
       "    </tr>\n",
       "    <tr>\n",
       "      <th>10</th>\n",
       "      <td>São Paulo</td>\n",
       "      <td>35</td>\n",
       "      <td>1</td>\n",
       "      <td>1</td>\n",
       "      <td>0</td>\n",
       "      <td>5</td>\n",
       "      <td>nao aceito</td>\n",
       "      <td>mobiliado</td>\n",
       "      <td>450</td>\n",
       "      <td>1800</td>\n",
       "      <td>91</td>\n",
       "      <td>7</td>\n",
       "      <td>2348</td>\n",
       "    </tr>\n",
       "    <tr>\n",
       "      <th>11</th>\n",
       "      <td>Campinas</td>\n",
       "      <td>48</td>\n",
       "      <td>1</td>\n",
       "      <td>1</td>\n",
       "      <td>0</td>\n",
       "      <td>4</td>\n",
       "      <td>nao aceito</td>\n",
       "      <td>nao mobiliado</td>\n",
       "      <td>490</td>\n",
       "      <td>500</td>\n",
       "      <td>17</td>\n",
       "      <td>7</td>\n",
       "      <td>1014</td>\n",
       "    </tr>\n",
       "    <tr>\n",
       "      <th>12</th>\n",
       "      <td>Campinas</td>\n",
       "      <td>47</td>\n",
       "      <td>1</td>\n",
       "      <td>1</td>\n",
       "      <td>0</td>\n",
       "      <td>1</td>\n",
       "      <td>aceito</td>\n",
       "      <td>mobiliado</td>\n",
       "      <td>380</td>\n",
       "      <td>550</td>\n",
       "      <td>14</td>\n",
       "      <td>7</td>\n",
       "      <td>951</td>\n",
       "    </tr>\n",
       "    <tr>\n",
       "      <th>13</th>\n",
       "      <td>Rio de Janeiro</td>\n",
       "      <td>25</td>\n",
       "      <td>1</td>\n",
       "      <td>1</td>\n",
       "      <td>0</td>\n",
       "      <td>3</td>\n",
       "      <td>aceito</td>\n",
       "      <td>nao mobiliado</td>\n",
       "      <td>561</td>\n",
       "      <td>1513</td>\n",
       "      <td>0</td>\n",
       "      <td>7</td>\n",
       "      <td>2081</td>\n",
       "    </tr>\n",
       "    <tr>\n",
       "      <th>14</th>\n",
       "      <td>Campinas</td>\n",
       "      <td>30</td>\n",
       "      <td>1</td>\n",
       "      <td>1</td>\n",
       "      <td>0</td>\n",
       "      <td>5</td>\n",
       "      <td>nao aceito</td>\n",
       "      <td>mobiliado</td>\n",
       "      <td>380</td>\n",
       "      <td>500</td>\n",
       "      <td>10</td>\n",
       "      <td>7</td>\n",
       "      <td>897</td>\n",
       "    </tr>\n",
       "    <tr>\n",
       "      <th>15</th>\n",
       "      <td>Rio de Janeiro</td>\n",
       "      <td>28</td>\n",
       "      <td>1</td>\n",
       "      <td>1</td>\n",
       "      <td>0</td>\n",
       "      <td>8</td>\n",
       "      <td>aceito</td>\n",
       "      <td>nao mobiliado</td>\n",
       "      <td>453</td>\n",
       "      <td>1009</td>\n",
       "      <td>0</td>\n",
       "      <td>7</td>\n",
       "      <td>1469</td>\n",
       "    </tr>\n",
       "    <tr>\n",
       "      <th>16</th>\n",
       "      <td>Campinas</td>\n",
       "      <td>40</td>\n",
       "      <td>1</td>\n",
       "      <td>1</td>\n",
       "      <td>0</td>\n",
       "      <td>4</td>\n",
       "      <td>aceito</td>\n",
       "      <td>nao mobiliado</td>\n",
       "      <td>420</td>\n",
       "      <td>500</td>\n",
       "      <td>17</td>\n",
       "      <td>7</td>\n",
       "      <td>944</td>\n",
       "    </tr>\n",
       "    <tr>\n",
       "      <th>17</th>\n",
       "      <td>Campinas</td>\n",
       "      <td>36</td>\n",
       "      <td>1</td>\n",
       "      <td>1</td>\n",
       "      <td>0</td>\n",
       "      <td>4</td>\n",
       "      <td>nao aceito</td>\n",
       "      <td>nao mobiliado</td>\n",
       "      <td>300</td>\n",
       "      <td>500</td>\n",
       "      <td>10</td>\n",
       "      <td>7</td>\n",
       "      <td>817</td>\n",
       "    </tr>\n",
       "    <tr>\n",
       "      <th>18</th>\n",
       "      <td>São Paulo</td>\n",
       "      <td>55</td>\n",
       "      <td>1</td>\n",
       "      <td>1</td>\n",
       "      <td>1</td>\n",
       "      <td>10</td>\n",
       "      <td>aceito</td>\n",
       "      <td>mobiliado</td>\n",
       "      <td>570</td>\n",
       "      <td>1800</td>\n",
       "      <td>0</td>\n",
       "      <td>7</td>\n",
       "      <td>2377</td>\n",
       "    </tr>\n",
       "    <tr>\n",
       "      <th>19</th>\n",
       "      <td>Campinas</td>\n",
       "      <td>53</td>\n",
       "      <td>1</td>\n",
       "      <td>1</td>\n",
       "      <td>1</td>\n",
       "      <td>3</td>\n",
       "      <td>aceito</td>\n",
       "      <td>nao mobiliado</td>\n",
       "      <td>588</td>\n",
       "      <td>550</td>\n",
       "      <td>73</td>\n",
       "      <td>7</td>\n",
       "      <td>1218</td>\n",
       "    </tr>\n",
       "  </tbody>\n",
       "</table>\n",
       "</div>"
      ],
      "text/plain": [
       "            cidade  area  quartos  banheiros  vagas  andar      animal  \\\n",
       "0         Campinas    50        1          1      0      8      aceito   \n",
       "1         Campinas    40        1          2      1      7      aceito   \n",
       "2         Campinas    25        1          1      0      3  nao aceito   \n",
       "3        São Paulo    71        1          1      0      1      aceito   \n",
       "4        São Paulo    43        1          1      0      6      aceito   \n",
       "5        São Paulo    48        1          1      1     19      aceito   \n",
       "6        São Paulo    67        1          1      1      1  nao aceito   \n",
       "7   Rio de Janeiro    50        1          1      0      1      aceito   \n",
       "8   Belo Horizonte    22        1          1      0      1      aceito   \n",
       "9         Campinas    44        1          1      0      7      aceito   \n",
       "10       São Paulo    35        1          1      0      5  nao aceito   \n",
       "11        Campinas    48        1          1      0      4  nao aceito   \n",
       "12        Campinas    47        1          1      0      1      aceito   \n",
       "13  Rio de Janeiro    25        1          1      0      3      aceito   \n",
       "14        Campinas    30        1          1      0      5  nao aceito   \n",
       "15  Rio de Janeiro    28        1          1      0      8      aceito   \n",
       "16        Campinas    40        1          1      0      4      aceito   \n",
       "17        Campinas    36        1          1      0      4  nao aceito   \n",
       "18       São Paulo    55        1          1      1     10      aceito   \n",
       "19        Campinas    53        1          1      1      3      aceito   \n",
       "\n",
       "          mobilia  valor_condominio  valor_aluguel  iptu  taxa_incendio  \\\n",
       "0   nao mobiliado               300            550     0              3   \n",
       "1   nao mobiliado               550            807    43              3   \n",
       "2   nao mobiliado               200           1020     0              4   \n",
       "3   nao mobiliado               718           1443     0              5   \n",
       "4   nao mobiliado               219           1472    42              6   \n",
       "5   nao mobiliado               588           1525     0              6   \n",
       "6   nao mobiliado                 0           1000     0              6   \n",
       "7   nao mobiliado               640           1428    81              6   \n",
       "8   nao mobiliado                30            450    13              6   \n",
       "9   nao mobiliado               350            550    12              7   \n",
       "10      mobiliado               450           1800    91              7   \n",
       "11  nao mobiliado               490            500    17              7   \n",
       "12      mobiliado               380            550    14              7   \n",
       "13  nao mobiliado               561           1513     0              7   \n",
       "14      mobiliado               380            500    10              7   \n",
       "15  nao mobiliado               453           1009     0              7   \n",
       "16  nao mobiliado               420            500    17              7   \n",
       "17  nao mobiliado               300            500    10              7   \n",
       "18      mobiliado               570           1800     0              7   \n",
       "19  nao mobiliado               588            550    73              7   \n",
       "\n",
       "    valor_total  \n",
       "0           853  \n",
       "1          1403  \n",
       "2          1224  \n",
       "3          2166  \n",
       "4          1739  \n",
       "5          2119  \n",
       "6          1006  \n",
       "7          2155  \n",
       "8           499  \n",
       "9           919  \n",
       "10         2348  \n",
       "11         1014  \n",
       "12          951  \n",
       "13         2081  \n",
       "14          897  \n",
       "15         1469  \n",
       "16          944  \n",
       "17          817  \n",
       "18         2377  \n",
       "19         1218  "
      ]
     },
     "execution_count": 7,
     "metadata": {},
     "output_type": "execute_result"
    }
   ],
   "source": [
    "# verificando os dados\n",
    "df.head(20)"
   ]
  },
  {
   "cell_type": "code",
   "execution_count": 8,
   "id": "4f39bef7-82a5-4280-a823-f54cc472d992",
   "metadata": {},
   "outputs": [
    {
     "name": "stdout",
     "output_type": "stream",
     "text": [
      "<class 'pandas.core.frame.DataFrame'>\n",
      "RangeIndex: 8510 entries, 0 to 8509\n",
      "Data columns (total 13 columns):\n",
      " #   Column            Non-Null Count  Dtype \n",
      "---  ------            --------------  ----- \n",
      " 0   cidade            8510 non-null   object\n",
      " 1   area              8510 non-null   int64 \n",
      " 2   quartos           8510 non-null   int64 \n",
      " 3   banheiros         8510 non-null   int64 \n",
      " 4   vagas             8510 non-null   int64 \n",
      " 5   andar             8510 non-null   int64 \n",
      " 6   animal            8510 non-null   object\n",
      " 7   mobilia           8510 non-null   object\n",
      " 8   valor_condominio  8510 non-null   int64 \n",
      " 9   valor_aluguel     8510 non-null   int64 \n",
      " 10  iptu              8510 non-null   int64 \n",
      " 11  taxa_incendio     8510 non-null   int64 \n",
      " 12  valor_total       8510 non-null   int64 \n",
      "dtypes: int64(10), object(3)\n",
      "memory usage: 864.4+ KB\n"
     ]
    }
   ],
   "source": [
    "# checando as informações básicas dos dados\n",
    "\n",
    "df.info()"
   ]
  },
  {
   "cell_type": "code",
   "execution_count": 9,
   "id": "a0a5a6f8-16c6-4779-b481-1aa7efb80806",
   "metadata": {},
   "outputs": [
    {
     "data": {
      "text/html": [
       "<div>\n",
       "<style scoped>\n",
       "    .dataframe tbody tr th:only-of-type {\n",
       "        vertical-align: middle;\n",
       "    }\n",
       "\n",
       "    .dataframe tbody tr th {\n",
       "        vertical-align: top;\n",
       "    }\n",
       "\n",
       "    .dataframe thead th {\n",
       "        text-align: right;\n",
       "    }\n",
       "</style>\n",
       "<table border=\"1\" class=\"dataframe\">\n",
       "  <thead>\n",
       "    <tr style=\"text-align: right;\">\n",
       "      <th></th>\n",
       "      <th>area</th>\n",
       "      <th>quartos</th>\n",
       "      <th>banheiros</th>\n",
       "      <th>vagas</th>\n",
       "      <th>andar</th>\n",
       "      <th>valor_condominio</th>\n",
       "      <th>valor_aluguel</th>\n",
       "      <th>iptu</th>\n",
       "      <th>taxa_incendio</th>\n",
       "      <th>valor_total</th>\n",
       "    </tr>\n",
       "  </thead>\n",
       "  <tbody>\n",
       "    <tr>\n",
       "      <th>count</th>\n",
       "      <td>8510.000000</td>\n",
       "      <td>8510.000000</td>\n",
       "      <td>8510.000000</td>\n",
       "      <td>8510.000000</td>\n",
       "      <td>8510.000000</td>\n",
       "      <td>8.510000e+03</td>\n",
       "      <td>8510.000000</td>\n",
       "      <td>8510.000000</td>\n",
       "      <td>8510.000000</td>\n",
       "      <td>8.510000e+03</td>\n",
       "    </tr>\n",
       "    <tr>\n",
       "      <th>mean</th>\n",
       "      <td>148.887309</td>\n",
       "      <td>2.506580</td>\n",
       "      <td>2.235253</td>\n",
       "      <td>1.620094</td>\n",
       "      <td>5.301410</td>\n",
       "      <td>1.082496e+03</td>\n",
       "      <td>3879.462162</td>\n",
       "      <td>336.506580</td>\n",
       "      <td>53.129965</td>\n",
       "      <td>5.351770e+03</td>\n",
       "    </tr>\n",
       "    <tr>\n",
       "      <th>std</th>\n",
       "      <td>536.414887</td>\n",
       "      <td>1.171062</td>\n",
       "      <td>1.409261</td>\n",
       "      <td>1.610021</td>\n",
       "      <td>6.028626</td>\n",
       "      <td>1.237611e+04</td>\n",
       "      <td>3406.211183</td>\n",
       "      <td>649.744266</td>\n",
       "      <td>47.850536</td>\n",
       "      <td>1.314085e+04</td>\n",
       "    </tr>\n",
       "    <tr>\n",
       "      <th>min</th>\n",
       "      <td>11.000000</td>\n",
       "      <td>1.000000</td>\n",
       "      <td>1.000000</td>\n",
       "      <td>0.000000</td>\n",
       "      <td>1.000000</td>\n",
       "      <td>0.000000e+00</td>\n",
       "      <td>450.000000</td>\n",
       "      <td>0.000000</td>\n",
       "      <td>3.000000</td>\n",
       "      <td>4.990000e+02</td>\n",
       "    </tr>\n",
       "    <tr>\n",
       "      <th>25%</th>\n",
       "      <td>56.000000</td>\n",
       "      <td>2.000000</td>\n",
       "      <td>1.000000</td>\n",
       "      <td>0.000000</td>\n",
       "      <td>1.000000</td>\n",
       "      <td>1.700000e+02</td>\n",
       "      <td>1520.000000</td>\n",
       "      <td>38.250000</td>\n",
       "      <td>21.000000</td>\n",
       "      <td>2.076000e+03</td>\n",
       "    </tr>\n",
       "    <tr>\n",
       "      <th>50%</th>\n",
       "      <td>90.000000</td>\n",
       "      <td>2.000000</td>\n",
       "      <td>2.000000</td>\n",
       "      <td>1.000000</td>\n",
       "      <td>3.000000</td>\n",
       "      <td>5.600000e+02</td>\n",
       "      <td>2606.000000</td>\n",
       "      <td>125.000000</td>\n",
       "      <td>36.000000</td>\n",
       "      <td>3.554500e+03</td>\n",
       "    </tr>\n",
       "    <tr>\n",
       "      <th>75%</th>\n",
       "      <td>183.000000</td>\n",
       "      <td>3.000000</td>\n",
       "      <td>3.000000</td>\n",
       "      <td>2.000000</td>\n",
       "      <td>8.000000</td>\n",
       "      <td>1.209500e+03</td>\n",
       "      <td>5000.000000</td>\n",
       "      <td>375.000000</td>\n",
       "      <td>66.000000</td>\n",
       "      <td>6.717000e+03</td>\n",
       "    </tr>\n",
       "    <tr>\n",
       "      <th>max</th>\n",
       "      <td>46335.000000</td>\n",
       "      <td>13.000000</td>\n",
       "      <td>10.000000</td>\n",
       "      <td>12.000000</td>\n",
       "      <td>301.000000</td>\n",
       "      <td>1.117000e+06</td>\n",
       "      <td>45000.000000</td>\n",
       "      <td>21880.000000</td>\n",
       "      <td>677.000000</td>\n",
       "      <td>1.120000e+06</td>\n",
       "    </tr>\n",
       "  </tbody>\n",
       "</table>\n",
       "</div>"
      ],
      "text/plain": [
       "               area      quartos    banheiros        vagas        andar  \\\n",
       "count   8510.000000  8510.000000  8510.000000  8510.000000  8510.000000   \n",
       "mean     148.887309     2.506580     2.235253     1.620094     5.301410   \n",
       "std      536.414887     1.171062     1.409261     1.610021     6.028626   \n",
       "min       11.000000     1.000000     1.000000     0.000000     1.000000   \n",
       "25%       56.000000     2.000000     1.000000     0.000000     1.000000   \n",
       "50%       90.000000     2.000000     2.000000     1.000000     3.000000   \n",
       "75%      183.000000     3.000000     3.000000     2.000000     8.000000   \n",
       "max    46335.000000    13.000000    10.000000    12.000000   301.000000   \n",
       "\n",
       "       valor_condominio  valor_aluguel          iptu  taxa_incendio  \\\n",
       "count      8.510000e+03    8510.000000   8510.000000    8510.000000   \n",
       "mean       1.082496e+03    3879.462162    336.506580      53.129965   \n",
       "std        1.237611e+04    3406.211183    649.744266      47.850536   \n",
       "min        0.000000e+00     450.000000      0.000000       3.000000   \n",
       "25%        1.700000e+02    1520.000000     38.250000      21.000000   \n",
       "50%        5.600000e+02    2606.000000    125.000000      36.000000   \n",
       "75%        1.209500e+03    5000.000000    375.000000      66.000000   \n",
       "max        1.117000e+06   45000.000000  21880.000000     677.000000   \n",
       "\n",
       "        valor_total  \n",
       "count  8.510000e+03  \n",
       "mean   5.351770e+03  \n",
       "std    1.314085e+04  \n",
       "min    4.990000e+02  \n",
       "25%    2.076000e+03  \n",
       "50%    3.554500e+03  \n",
       "75%    6.717000e+03  \n",
       "max    1.120000e+06  "
      ]
     },
     "execution_count": 9,
     "metadata": {},
     "output_type": "execute_result"
    }
   ],
   "source": [
    "df.describe()"
   ]
  },
  {
   "cell_type": "markdown",
   "id": "97fca0b7-d722-49c9-b11b-77d9155cfd75",
   "metadata": {},
   "source": [
    "***"
   ]
  },
  {
   "cell_type": "markdown",
   "id": "94582ee3-ce51-47f3-ac11-93a15134d12a",
   "metadata": {
    "tags": []
   },
   "source": [
    "# 2.0 - Respondendo às perguntas de negócios"
   ]
  },
  {
   "cell_type": "markdown",
   "id": "eedb8a78-6aa5-44cb-9054-ea5fd7c595e6",
   "metadata": {},
   "source": [
    "## 2.1 - Qual a cidade que possui o maior número de imóveis disponíveis?"
   ]
  },
  {
   "cell_type": "code",
   "execution_count": 10,
   "id": "ef0469ac-2366-445d-8afb-2e6e5cc870c3",
   "metadata": {},
   "outputs": [
    {
     "data": {
      "text/plain": [
       "São Paulo         4695\n",
       "Rio de Janeiro    1175\n",
       "Belo Horizonte     987\n",
       "Porto Alegre       959\n",
       "Campinas           694\n",
       "Name: cidade, dtype: int64"
      ]
     },
     "execution_count": 10,
     "metadata": {},
     "output_type": "execute_result"
    }
   ],
   "source": [
    "df['cidade'].value_counts()"
   ]
  },
  {
   "cell_type": "code",
   "execution_count": 11,
   "id": "3776e10d-b4bc-491c-906a-a9b963edbbe2",
   "metadata": {},
   "outputs": [
    {
     "data": {
      "image/png": "[encoded data removed]",
      "text/plain": [
       "<Figure size 2160x720 with 1 Axes>"
      ]
     },
     "metadata": {},
     "output_type": "display_data"
    }
   ],
   "source": [
    "# alterando o estilo do background\n",
    "sns.set_style(\"darkgrid\")\n",
    "\n",
    "# o mesmo dado da célula anterior porém em um gráfico\n",
    "plt.figure(figsize = (30,10))\n",
    "plot_cidade = ax = sns.countplot(x = 'cidade',\n",
    "                   data = df,\n",
    "                  order = df.cidade.value_counts().index)\n",
    "\n",
    "plot_cidade.set_xlabel(\"Cidades\")\n",
    "plot_cidade.set_ylabel(\"Contagem\");"
   ]
  },
  {
   "cell_type": "code",
   "execution_count": 12,
   "id": "2a005ae9-14d9-4f8c-b6e6-a192b708e2e9",
   "metadata": {},
   "outputs": [
    {
     "data": {
      "text/plain": [
       "São Paulo         55.0\n",
       "Rio de Janeiro    14.0\n",
       "Belo Horizonte    12.0\n",
       "Porto Alegre      11.0\n",
       "Campinas           8.0\n",
       "Name: cidade, dtype: float64"
      ]
     },
     "execution_count": 12,
     "metadata": {},
     "output_type": "execute_result"
    }
   ],
   "source": [
    "(df['cidade'].value_counts() / len(df)).round(2)*100"
   ]
  },
  {
   "cell_type": "markdown",
   "id": "d423ed11-7608-4c49-90d8-612ec28b0dd9",
   "metadata": {},
   "source": [
    "##### R:. A cidade de São Paulo possui o maior número de imóveis disponíveis correspondendo à 55% de todo o conjunto de dados"
   ]
  },
  {
   "cell_type": "markdown",
   "id": "d3b0a197-6fb2-49cc-8f22-f9551efc71b1",
   "metadata": {},
   "source": [
    "## 2.2 - Qual a cidade que possui a média do valor total do imóvel mais alta? E a mais baixa"
   ]
  },
  {
   "cell_type": "code",
   "execution_count": 13,
   "id": "d06a29e1-1927-45db-82b6-1cd61f432d06",
   "metadata": {},
   "outputs": [
    {
     "name": "stdout",
     "output_type": "stream",
     "text": [
      "Valor da média é 5352 e da mediana é 3554 com uma diferença de valores de 1798. O melhor caso de uso é a mediana!\n"
     ]
    }
   ],
   "source": [
    "# verificando se existem valores que estão distorcendo a média da coluna valor_total\n",
    "# caso os valores de média e mediana sejam muito diferentes, isso indica uma alta probabilidade dos valores estarem muito esparsos\n",
    "# nesses casos o mais indicado é usar a mediana\n",
    "# vou criar uma condição que irá retornar se é melhor usar a média ou mediana levando em consideração o valor máximo de diferença de R$500\n",
    "\n",
    "mean = round(df['valor_total'].mean())\n",
    "median = round(df['valor_total'].median())\n",
    "diferenca = mean - median\n",
    "\n",
    "if diferenca + 500:\n",
    "    print('Valor da média é {} e da mediana é {} com uma diferença de valores de {}. O melhor caso de uso é a mediana!'.format(mean, median, diferenca))\n",
    "else:\n",
    "    print('Valor da média é {} e da mediana é {} com uma diferença de valores de {}. A média pode ser usada com segurança!'.format(mean, median, diferenca))"
   ]
  },
  {
   "cell_type": "code",
   "execution_count": 14,
   "id": "de1bc0dd-9288-4127-b589-80a586f41f30",
   "metadata": {},
   "outputs": [
    {
     "name": "stdout",
     "output_type": "stream",
     "text": [
      "Máximo: 1120000 \n",
      "Mínimo: 499\n"
     ]
    }
   ],
   "source": [
    "# checando o valor_total máximo e mínimo\n",
    "max = df['valor_total'].max()\n",
    "min = df['valor_total'].min()\n",
    "\n",
    "print('Máximo: {} '.format(max) + '\\n' + 'Mínimo: {}'.format(min))"
   ]
  },
  {
   "cell_type": "code",
   "execution_count": 15,
   "id": "58e7fabe-130e-4511-a0a4-ce0391fe435d",
   "metadata": {},
   "outputs": [
    {
     "data": {
      "text/html": [
       "<div>\n",
       "<style scoped>\n",
       "    .dataframe tbody tr th:only-of-type {\n",
       "        vertical-align: middle;\n",
       "    }\n",
       "\n",
       "    .dataframe tbody tr th {\n",
       "        vertical-align: top;\n",
       "    }\n",
       "\n",
       "    .dataframe thead th {\n",
       "        text-align: right;\n",
       "    }\n",
       "</style>\n",
       "<table border=\"1\" class=\"dataframe\">\n",
       "  <thead>\n",
       "    <tr style=\"text-align: right;\">\n",
       "      <th></th>\n",
       "      <th>valor_total</th>\n",
       "    </tr>\n",
       "    <tr>\n",
       "      <th>cidade</th>\n",
       "      <th></th>\n",
       "    </tr>\n",
       "  </thead>\n",
       "  <tbody>\n",
       "    <tr>\n",
       "      <th>São Paulo</th>\n",
       "      <td>4510</td>\n",
       "    </tr>\n",
       "    <tr>\n",
       "      <th>Rio de Janeiro</th>\n",
       "      <td>3324</td>\n",
       "    </tr>\n",
       "    <tr>\n",
       "      <th>Belo Horizonte</th>\n",
       "      <td>3091</td>\n",
       "    </tr>\n",
       "    <tr>\n",
       "      <th>Porto Alegre</th>\n",
       "      <td>2242</td>\n",
       "    </tr>\n",
       "    <tr>\n",
       "      <th>Campinas</th>\n",
       "      <td>2148</td>\n",
       "    </tr>\n",
       "  </tbody>\n",
       "</table>\n",
       "</div>"
      ],
      "text/plain": [
       "                valor_total\n",
       "cidade                     \n",
       "São Paulo              4510\n",
       "Rio de Janeiro         3324\n",
       "Belo Horizonte         3091\n",
       "Porto Alegre           2242\n",
       "Campinas               2148"
      ]
     },
     "execution_count": 15,
     "metadata": {},
     "output_type": "execute_result"
    }
   ],
   "source": [
    "# verificando a mediana do valor_total das cidades\n",
    "df_mediana = df[['cidade','valor_total']]\n",
    "\n",
    "df_mediana = df_mediana.groupby(by = ['cidade']).median().sort_values(by = 'valor_total', ascending = False)\n",
    "df_mediana"
   ]
  },
  {
   "cell_type": "code",
   "execution_count": 16,
   "id": "5103ad63-0402-4341-a705-1dd553972309",
   "metadata": {},
   "outputs": [
    {
     "data": {
      "image/png": "[encoded data removed]",
      "text/plain": [
       "<Figure size 2160x720 with 1 Axes>"
      ]
     },
     "metadata": {},
     "output_type": "display_data"
    }
   ],
   "source": [
    "# plotando o gráfico para visualização\n",
    "\n",
    "df_mediana.reset_index(inplace=True)\n",
    "\n",
    "fig = plt.subplots(figsize=(30,10))\n",
    "ax = sns.barplot(x='cidade',\n",
    "            y='valor_total',\n",
    "            data=df_mediana);"
   ]
  },
  {
   "cell_type": "markdown",
   "id": "dbe5b1b5-79df-43c6-8388-85467eec62db",
   "metadata": {},
   "source": [
    "##### R:. A cidade de São Paulo possui a média mais cara, na faixa de BRL 4510,00, enquanto que a cidade de Campinas possui o menor custo dentre as 5, na faixa de BRL 2148,00. Pelo fato de São Paulo ser uma capital e Campinas ser interior, existe essa diferença de custo de habitação."
   ]
  },
  {
   "cell_type": "markdown",
   "id": "284adb01-97ff-46cb-8f87-dc35de2c0387",
   "metadata": {},
   "source": [
    "## 2.3 Os imóveis que já possuem mobília são mais caros, mais baratos ou não influenciam no valor total?"
   ]
  },
  {
   "cell_type": "code",
   "execution_count": 17,
   "id": "a2cb48ba-cfa4-49a7-be9e-86ae73fbf369",
   "metadata": {},
   "outputs": [
    {
     "data": {
      "text/plain": [
       "(1702, 13)"
      ]
     },
     "execution_count": 17,
     "metadata": {},
     "output_type": "execute_result"
    }
   ],
   "source": [
    "# vamos usar um gráfico de dispersão e para isso precisamos tirar uma amostra da nossa base de dados pois o swarm demora muito para processar\n",
    "# nossa base possui 8510 registros e vamos retirar 20% para uma amostra (1702)\n",
    "\n",
    "df2 = df.sample(1702)\n",
    "df2.shape"
   ]
  },
  {
   "cell_type": "code",
   "execution_count": 18,
   "id": "996c47aa-ac0e-41f6-8bde-a7b40cb57074",
   "metadata": {},
   "outputs": [
    {
     "data": {
      "text/plain": [
       "<seaborn.axisgrid.FacetGrid at 0x24008222a00>"
      ]
     },
     "execution_count": 18,
     "metadata": {},
     "output_type": "execute_result"
    },
    {
     "data": {
      "image/png": "[encoded data removed]",
      "text/plain": [
       "<Figure size 1620x648 with 1 Axes>"
      ]
     },
     "metadata": {},
     "output_type": "display_data"
    }
   ],
   "source": [
    "sns.catplot(x=\"mobilia\",\n",
    "            y=\"valor_total\",\n",
    "            kind=\"swarm\",\n",
    "            data=df2,\n",
    "            height=9,\n",
    "            aspect=2.5)"
   ]
  },
  {
   "cell_type": "code",
   "execution_count": 19,
   "id": "b608c6f0-63f8-48f1-8163-69e3e3681aa2",
   "metadata": {},
   "outputs": [
    {
     "data": {
      "text/plain": [
       "nao mobiliado    1287\n",
       "mobiliado         415\n",
       "Name: mobilia, dtype: int64"
      ]
     },
     "execution_count": 19,
     "metadata": {},
     "output_type": "execute_result"
    }
   ],
   "source": [
    "df2['mobilia'].value_counts()"
   ]
  },
  {
   "cell_type": "markdown",
   "id": "722423d3-417b-4851-bcdc-50ca2e82b075",
   "metadata": {},
   "source": [
    "##### R:. Podemos ver que possuem mais imóveis que não estão mobiliados, mas isso necessariamente não interfere no aumento ou diminuição de preços. A correlação é neutra."
   ]
  },
  {
   "cell_type": "markdown",
   "id": "463be9b1-b357-4f1a-b366-355f96d01d29",
   "metadata": {},
   "source": [
    "## 2.4 - Imóveis que permitem animais influenciam no valor total?"
   ]
  },
  {
   "cell_type": "code",
   "execution_count": 20,
   "id": "1ce53fa1-68d1-4e38-8d82-f613d6d0f8d2",
   "metadata": {},
   "outputs": [
    {
     "data": {
      "text/plain": [
       "<seaborn.axisgrid.FacetGrid at 0x240080e1fa0>"
      ]
     },
     "execution_count": 20,
     "metadata": {},
     "output_type": "execute_result"
    },
    {
     "data": {
      "image/png": "[encoded data removed]",
      "text/plain": [
       "<Figure size 1620x648 with 1 Axes>"
      ]
     },
     "metadata": {},
     "output_type": "display_data"
    }
   ],
   "source": [
    "# esta pergunta basicamente pode ser respondida usando o mesmo método da pergunta anterior: visualizando se existe correlação\n",
    "# e mais uma vez vamos usar a amostra que tiramos\n",
    "\n",
    "sns.catplot(x=\"animal\",\n",
    "            y=\"valor_total\",\n",
    "            kind=\"swarm\",\n",
    "            data=df2,\n",
    "            height=9,\n",
    "            aspect=2.5)"
   ]
  },
  {
   "cell_type": "code",
   "execution_count": 21,
   "id": "1b35510a-5c90-48a2-909f-142d2bda043a",
   "metadata": {},
   "outputs": [
    {
     "data": {
      "text/plain": [
       "aceito        1322\n",
       "nao aceito     380\n",
       "Name: animal, dtype: int64"
      ]
     },
     "execution_count": 21,
     "metadata": {},
     "output_type": "execute_result"
    }
   ],
   "source": [
    "df2['animal'].value_counts()"
   ]
  },
  {
   "cell_type": "markdown",
   "id": "923bfe54-3780-4d3e-8389-9effd260a787",
   "metadata": {},
   "source": [
    "##### R:. Podemos ver que mais uma vez a correlação é basicamente neutra. O valor não é influenciado pela aceitação ou não de animais. Existe um claro desbalanceamento das classes mas não precisamos nos preocupar com isso neste momento"
   ]
  },
  {
   "cell_type": "markdown",
   "id": "b7a8e6e0-477a-4128-83db-032eccf99cd4",
   "metadata": {},
   "source": [
    "## 2.5 - Qual é a média do valor total dos imóveis com 3 quartos ou mais, já possuem mobília e são da cidade com o maior custo total?"
   ]
  },
  {
   "cell_type": "code",
   "execution_count": 22,
   "id": "fc9807ca-66fa-49db-85c0-6891480466e6",
   "metadata": {},
   "outputs": [
    {
     "data": {
      "text/plain": [
       "7475.0"
      ]
     },
     "execution_count": 22,
     "metadata": {},
     "output_type": "execute_result"
    }
   ],
   "source": [
    "# para resolver essa questão precisamos filtrar pelas condições e tirar a mediana (lembrando que nossa média está afetada pela grande variação de valor)\n",
    "# lembrando que a cidade com maior custo total é São Paulo, como já conferimos mais acima\n",
    "\n",
    "df['valor_total'].loc[(df['quartos'] >= 3) & (df['mobilia'].str.contains(\"mobiliado\")) & (df['cidade'].str.contains(\"São Paulo\"))].median()"
   ]
  },
  {
   "cell_type": "markdown",
   "id": "2275567d-fae9-44aa-b2b3-eb1f404c8f56",
   "metadata": {},
   "source": [
    "##### R:. A média dos imóveis com essas condições é de BRL 7475,00. Bem carinho, hein 😂"
   ]
  },
  {
   "cell_type": "markdown",
   "id": "b401e045-ac2e-4fc3-ba59-0e2ae0d7a06e",
   "metadata": {},
   "source": [
    "***"
   ]
  },
  {
   "cell_type": "markdown",
   "id": "c4bb49f3-f290-47c4-82c0-8a7d57b566ab",
   "metadata": {},
   "source": [
    "# 3.0 - Criando nosso algoritmo de Machine Learning"
   ]
  },
  {
   "cell_type": "markdown",
   "id": "dbbd955b-20bd-4931-a05d-a946476040bf",
   "metadata": {},
   "source": [
    "### Realizada as nossas análises e respondido nossas perguntas de negócio, agora vamos partir para a criação do nosso algoritmo de Machine Learning!\n",
    "\n",
    "Baseados nos atributos do nosso conjunto de dados iremos predizer o valor total de aluguel de um imóvel.<br> A saída do nosso algoritmo será um número (BRL) por isso iremos usar uma técnica de Regressão Supervisionada.<br> Para o baseline iremos usar o algoritmo **Regressão Linear.**<br><br>\n",
    "\n",
    "Iremos utilizar o **método cíclico** para poder gerar valor mais rápido. Em outras palavras: nesta primeira sprint, não iremos nos preocupar com hiper-parametros, ajustes e nem nada que possa nos atrasar na criação do nosso baseline. Nos próximos ciclos iremos agregar mais passos à nossa solução e ela se tornará bem robusta. Isso permite que criemos um ecossistema de valor em que vamos explorando nosso modelo à medida que o ciclo se repete."
   ]
  },
  {
   "cell_type": "markdown",
   "id": "22bd5ce2-240b-48cc-bd76-52295550ca16",
   "metadata": {},
   "source": [
    "## 3.1 - CICLO 1 - Predição sem culpa (é só um teste ainda)"
   ]
  },
  {
   "cell_type": "markdown",
   "id": "fb5731df-1113-4ab8-9a7b-c9361adbc419",
   "metadata": {},
   "source": [
    "O algoritmo Regressão Linear aceita somente valores númericos nas suas features e por isso vamos precisar fazer um processo nos dados para que ele possa ser entendido pelo modelo."
   ]
  },
  {
   "cell_type": "code",
   "execution_count": 24,
   "id": "75d62a65-4443-4ff2-8d1c-8f9dec42e74c",
   "metadata": {},
   "outputs": [
    {
     "data": {
      "text/html": [
       "<div>\n",
       "<style scoped>\n",
       "    .dataframe tbody tr th:only-of-type {\n",
       "        vertical-align: middle;\n",
       "    }\n",
       "\n",
       "    .dataframe tbody tr th {\n",
       "        vertical-align: top;\n",
       "    }\n",
       "\n",
       "    .dataframe thead th {\n",
       "        text-align: right;\n",
       "    }\n",
       "</style>\n",
       "<table border=\"1\" class=\"dataframe\">\n",
       "  <thead>\n",
       "    <tr style=\"text-align: right;\">\n",
       "      <th></th>\n",
       "      <th>cidade</th>\n",
       "      <th>area</th>\n",
       "      <th>quartos</th>\n",
       "      <th>banheiros</th>\n",
       "      <th>vagas</th>\n",
       "      <th>andar</th>\n",
       "      <th>animal</th>\n",
       "      <th>mobilia</th>\n",
       "      <th>valor_condominio</th>\n",
       "      <th>valor_aluguel</th>\n",
       "      <th>iptu</th>\n",
       "      <th>taxa_incendio</th>\n",
       "      <th>valor_total</th>\n",
       "    </tr>\n",
       "  </thead>\n",
       "  <tbody>\n",
       "    <tr>\n",
       "      <th>5486</th>\n",
       "      <td>São Paulo</td>\n",
       "      <td>65</td>\n",
       "      <td>3</td>\n",
       "      <td>2</td>\n",
       "      <td>1</td>\n",
       "      <td>10</td>\n",
       "      <td>nao aceito</td>\n",
       "      <td>nao mobiliado</td>\n",
       "      <td>587</td>\n",
       "      <td>3250</td>\n",
       "      <td>113</td>\n",
       "      <td>42</td>\n",
       "      <td>3992</td>\n",
       "    </tr>\n",
       "    <tr>\n",
       "      <th>5112</th>\n",
       "      <td>São Paulo</td>\n",
       "      <td>73</td>\n",
       "      <td>3</td>\n",
       "      <td>2</td>\n",
       "      <td>2</td>\n",
       "      <td>14</td>\n",
       "      <td>aceito</td>\n",
       "      <td>nao mobiliado</td>\n",
       "      <td>550</td>\n",
       "      <td>2520</td>\n",
       "      <td>192</td>\n",
       "      <td>32</td>\n",
       "      <td>3294</td>\n",
       "    </tr>\n",
       "    <tr>\n",
       "      <th>1692</th>\n",
       "      <td>Rio de Janeiro</td>\n",
       "      <td>45</td>\n",
       "      <td>1</td>\n",
       "      <td>1</td>\n",
       "      <td>0</td>\n",
       "      <td>1</td>\n",
       "      <td>nao aceito</td>\n",
       "      <td>mobiliado</td>\n",
       "      <td>750</td>\n",
       "      <td>3300</td>\n",
       "      <td>249</td>\n",
       "      <td>43</td>\n",
       "      <td>4342</td>\n",
       "    </tr>\n",
       "    <tr>\n",
       "      <th>156</th>\n",
       "      <td>Porto Alegre</td>\n",
       "      <td>37</td>\n",
       "      <td>1</td>\n",
       "      <td>1</td>\n",
       "      <td>0</td>\n",
       "      <td>1</td>\n",
       "      <td>aceito</td>\n",
       "      <td>nao mobiliado</td>\n",
       "      <td>270</td>\n",
       "      <td>650</td>\n",
       "      <td>23</td>\n",
       "      <td>10</td>\n",
       "      <td>953</td>\n",
       "    </tr>\n",
       "    <tr>\n",
       "      <th>967</th>\n",
       "      <td>Porto Alegre</td>\n",
       "      <td>53</td>\n",
       "      <td>1</td>\n",
       "      <td>1</td>\n",
       "      <td>0</td>\n",
       "      <td>2</td>\n",
       "      <td>aceito</td>\n",
       "      <td>mobiliado</td>\n",
       "      <td>240</td>\n",
       "      <td>1480</td>\n",
       "      <td>42</td>\n",
       "      <td>22</td>\n",
       "      <td>1784</td>\n",
       "    </tr>\n",
       "  </tbody>\n",
       "</table>\n",
       "</div>"
      ],
      "text/plain": [
       "              cidade  area  quartos  banheiros  vagas  andar      animal  \\\n",
       "5486       São Paulo    65        3          2      1     10  nao aceito   \n",
       "5112       São Paulo    73        3          2      2     14      aceito   \n",
       "1692  Rio de Janeiro    45        1          1      0      1  nao aceito   \n",
       "156     Porto Alegre    37        1          1      0      1      aceito   \n",
       "967     Porto Alegre    53        1          1      0      2      aceito   \n",
       "\n",
       "            mobilia  valor_condominio  valor_aluguel  iptu  taxa_incendio  \\\n",
       "5486  nao mobiliado               587           3250   113             42   \n",
       "5112  nao mobiliado               550           2520   192             32   \n",
       "1692      mobiliado               750           3300   249             43   \n",
       "156   nao mobiliado               270            650    23             10   \n",
       "967       mobiliado               240           1480    42             22   \n",
       "\n",
       "      valor_total  \n",
       "5486         3992  \n",
       "5112         3294  \n",
       "1692         4342  \n",
       "156           953  \n",
       "967          1784  "
      ]
     },
     "execution_count": 24,
     "metadata": {},
     "output_type": "execute_result"
    }
   ],
   "source": [
    "# fazendo uma cópia dos nossos dados\n",
    "df_ml = df.copy()\n",
    "df_ml.sample(5)"
   ]
  },
  {
   "cell_type": "code",
   "execution_count": 26,
   "id": "d9f75dba-bcb0-4867-b971-0d18298e9793",
   "metadata": {},
   "outputs": [],
   "source": [
    "# dropando todas as colunas de valores exceto o valor total\n",
    "# dropando também a coluna andar, pois veio com uma transformação errada no ETL da google cloud (considerei os valor \"-\" como nulos e apliquei a mediana, ficando com valor 1. No entando o valor \"-\" significava que o imóvel não tinha nenhum andar, ficava no térreo)\n",
    "\n",
    "dropar_colunas = ['valor_condominio', 'valor_aluguel', 'iptu', 'taxa_incendio', 'andar','cidade', 'animal','mobilia']\n",
    "df_ml = df_ml.drop(columns = dropar_colunas, axis = 1)"
   ]
  },
  {
   "cell_type": "code",
   "execution_count": 27,
   "id": "32efced1-711a-4e8e-a003-5944ee67cba7",
   "metadata": {},
   "outputs": [
    {
     "data": {
      "text/html": [
       "<div>\n",
       "<style scoped>\n",
       "    .dataframe tbody tr th:only-of-type {\n",
       "        vertical-align: middle;\n",
       "    }\n",
       "\n",
       "    .dataframe tbody tr th {\n",
       "        vertical-align: top;\n",
       "    }\n",
       "\n",
       "    .dataframe thead th {\n",
       "        text-align: right;\n",
       "    }\n",
       "</style>\n",
       "<table border=\"1\" class=\"dataframe\">\n",
       "  <thead>\n",
       "    <tr style=\"text-align: right;\">\n",
       "      <th></th>\n",
       "      <th>area</th>\n",
       "      <th>quartos</th>\n",
       "      <th>banheiros</th>\n",
       "      <th>vagas</th>\n",
       "      <th>valor_total</th>\n",
       "    </tr>\n",
       "  </thead>\n",
       "  <tbody>\n",
       "    <tr>\n",
       "      <th>0</th>\n",
       "      <td>50</td>\n",
       "      <td>1</td>\n",
       "      <td>1</td>\n",
       "      <td>0</td>\n",
       "      <td>853</td>\n",
       "    </tr>\n",
       "    <tr>\n",
       "      <th>1</th>\n",
       "      <td>40</td>\n",
       "      <td>1</td>\n",
       "      <td>2</td>\n",
       "      <td>1</td>\n",
       "      <td>1403</td>\n",
       "    </tr>\n",
       "    <tr>\n",
       "      <th>2</th>\n",
       "      <td>25</td>\n",
       "      <td>1</td>\n",
       "      <td>1</td>\n",
       "      <td>0</td>\n",
       "      <td>1224</td>\n",
       "    </tr>\n",
       "    <tr>\n",
       "      <th>3</th>\n",
       "      <td>71</td>\n",
       "      <td>1</td>\n",
       "      <td>1</td>\n",
       "      <td>0</td>\n",
       "      <td>2166</td>\n",
       "    </tr>\n",
       "    <tr>\n",
       "      <th>4</th>\n",
       "      <td>43</td>\n",
       "      <td>1</td>\n",
       "      <td>1</td>\n",
       "      <td>0</td>\n",
       "      <td>1739</td>\n",
       "    </tr>\n",
       "  </tbody>\n",
       "</table>\n",
       "</div>"
      ],
      "text/plain": [
       "   area  quartos  banheiros  vagas  valor_total\n",
       "0    50        1          1      0          853\n",
       "1    40        1          2      1         1403\n",
       "2    25        1          1      0         1224\n",
       "3    71        1          1      0         2166\n",
       "4    43        1          1      0         1739"
      ]
     },
     "execution_count": 27,
     "metadata": {},
     "output_type": "execute_result"
    }
   ],
   "source": [
    "df_ml.head()"
   ]
  },
  {
   "cell_type": "code",
   "execution_count": 29,
   "id": "ccc2bc7f-9fd2-4484-a74f-ed039a8ce446",
   "metadata": {},
   "outputs": [],
   "source": [
    "# vamos dividir nossos dados em treino e teste para não vazar nenhuma informação para o modelo\n",
    "\n",
    "# importando as libs\n",
    "from sklearn import linear_model as lm\n",
    "from sklearn.model_selection import train_test_split\n",
    "from sklearn import metrics"
   ]
  },
  {
   "cell_type": "code",
   "execution_count": 30,
   "id": "e5389508-46dc-4ad2-8d71-33963aa94034",
   "metadata": {},
   "outputs": [],
   "source": [
    "# dividindo os dados\n",
    "\n",
    "X = df_ml.drop('valor_total', axis = 1)\n",
    "y = df_ml['valor_total']\n",
    "X_train, X_test, y_train, y_test = train_test_split(X,\n",
    "                                                    y,\n",
    "                                                    test_size = 0.30,\n",
    "                                                    random_state = 42)"
   ]
  },
  {
   "cell_type": "code",
   "execution_count": 31,
   "id": "74c4274d-0697-4645-9017-dcefd5a5cc0e",
   "metadata": {},
   "outputs": [],
   "source": [
    "model_lr = lm.LinearRegression()"
   ]
  },
  {
   "cell_type": "code",
   "execution_count": 32,
   "id": "9ee1c388-3ff8-4318-98dd-8c355305e932",
   "metadata": {},
   "outputs": [
    {
     "data": {
      "text/plain": [
       "LinearRegression()"
      ]
     },
     "execution_count": 32,
     "metadata": {},
     "output_type": "execute_result"
    }
   ],
   "source": [
    "# treinando o modelo\n",
    "\n",
    "model_lr.fit(X_train, y_train)"
   ]
  },
  {
   "cell_type": "code",
   "execution_count": 33,
   "id": "76bf3072-1e4c-4955-becb-0ba7ad04b1d6",
   "metadata": {},
   "outputs": [],
   "source": [
    "# vendo as predições nos dados de treino\n",
    "\n",
    "pred = model_lr.predict(X_test)"
   ]
  },
  {
   "cell_type": "code",
   "execution_count": 34,
   "id": "24578f6b-1710-4508-aeec-779c566333f9",
   "metadata": {},
   "outputs": [
    {
     "data": {
      "text/plain": [
       "Text(0, 0.5, 'Y Predito')"
      ]
     },
     "execution_count": 34,
     "metadata": {},
     "output_type": "execute_result"
    },
    {
     "data": {
      "image/png": "[encoded data removed]",
      "text/plain": [
       "<Figure size 1440x720 with 1 Axes>"
      ]
     },
     "metadata": {},
     "output_type": "display_data"
    }
   ],
   "source": [
    "# verificando o resultado do modelo com os dados de teste\n",
    "# o gráfico está muito esparso, provavelmente nosso modelo não obteve um bom resultado\n",
    "\n",
    "plt.figure(figsize = (20,10))\n",
    "plt.scatter(y_test, pred)\n",
    "plt.xlabel('Y Real')\n",
    "plt.ylabel('Y Predito')"
   ]
  },
  {
   "cell_type": "code",
   "execution_count": 36,
   "id": "e7bbe21e-836b-4ae1-81e9-25dee7b29048",
   "metadata": {},
   "outputs": [
    {
     "name": "stdout",
     "output_type": "stream",
     "text": [
      "MAE:  2171.5591748571683\n",
      "MSE:  10296859.455408478\n",
      "RMSE:  3208.8719911221883\n",
      "R:  0.464317098147358\n"
     ]
    }
   ],
   "source": [
    "# visualizando os resultados do nosso modelo\n",
    "\n",
    "print('MAE: ', metrics.mean_absolute_error(y_test, pred))\n",
    "print('MSE: ', metrics.mean_squared_error(y_test, pred))\n",
    "print('RMSE: ', np.sqrt(metrics.mean_squared_error(y_test, pred)))\n",
    "print('R: ', metrics.r2_score(y_test, pred))"
   ]
  },
  {
   "cell_type": "code",
   "execution_count": 46,
   "id": "cc436532-e105-46b3-9af9-6502eeacedcb",
   "metadata": {},
   "outputs": [],
   "source": [
    "# salvando o nosso dataset\n",
    "df_ml.to_csv('dataset_house_prices_in_brazil.csv', index = False)"
   ]
  },
  {
   "cell_type": "markdown",
   "id": "f0cbe815-39d1-4acf-9313-91ba55fe1fb8",
   "metadata": {},
   "source": [
    "Podemos ver que o nosso erro absoluto está em 2171, ou seja: toda vez que o modelo predizer o valor total, ele pode errar até BRL 2171 para mais ou para menos. Isso é muito ruim, visto que essa diferença de valores com certeza impactará na avaliação do imóvel.\n",
    "\n",
    "No entanto estamos ainda no ciclo 1. O objetivo aqui era realizar a criação de um modelo baseline. Nos próximos ciclos poderá ser feito inúmeros passos extras como: avaliar as features, construir novas features, saber quais features possuem alta correlação, tunar nosso modelo, etc. É uma infinidade de coisas possíveis que não iremos realizar neste projeto.\n",
    "\n",
    "Agora vamos colocar nosso modelo em produção! 🚀"
   ]
  },
  {
   "cell_type": "markdown",
   "id": "e19068e6-c0e8-49bf-9138-676b5c51a623",
   "metadata": {},
   "source": [
    "***"
   ]
  },
  {
   "cell_type": "markdown",
   "id": "d8ddb5d3-859c-456c-b291-23781829035e",
   "metadata": {},
   "source": [
    "# 4.0 - Fazendo o deploy do modelo em produção"
   ]
  },
  {
   "cell_type": "markdown",
   "id": "eabf5936-edd1-4238-9887-0d82fb77c6a1",
   "metadata": {},
   "source": [
    "### Nesta parte iremos criar o código necessário para conseguir integrar na plataforma Streamlit para os usuários finais utilizarem"
   ]
  },
  {
   "cell_type": "markdown",
   "id": "92a14162-d4fc-4afe-b529-f1a31c73a708",
   "metadata": {},
   "source": [
    "#### O código está no arquivo streamlit_app.py"
   ]
  }
 ],
 "metadata": {
  "kernelspec": {
   "display_name": "Python 3",
   "language": "python",
   "name": "python3"
  },
  "language_info": {
   "codemirror_mode": {
    "name": "ipython",
    "version": 3
   },
   "file_extension": ".py",
   "mimetype": "text/x-python",
   "name": "python",
   "nbconvert_exporter": "python",
   "pygments_lexer": "ipython3",
   "version": "3.8.8"
  }
 },
 "nbformat": 4,
 "nbformat_minor": 5
}
